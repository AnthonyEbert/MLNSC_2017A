{
 "cells": [
  {
   "cell_type": "markdown",
   "metadata": {},
   "source": [
    "original: \n",
    "\n",
    "+ http://qiita.com/niwasawa/items/42c3ed816ddffc14d770\n",
    "+ http://qiita.com/niwasawa/items/139311850632a599caa2"
   ]
  },
  {
   "cell_type": "code",
   "execution_count": 1,
   "metadata": {},
   "outputs": [
    {
     "data": {
      "text/plain": [
       "true"
      ]
     },
     "execution_count": 1,
     "metadata": {},
     "output_type": "execute_result"
    }
   ],
   "source": [
    "require 'numo/narray'\n",
    "require 'numo/gnuplot'"
   ]
  },
  {
   "cell_type": "code",
   "execution_count": 2,
   "metadata": {},
   "outputs": [
    {
     "data": {
      "text/plain": [
       ":step"
      ]
     },
     "execution_count": 2,
     "metadata": {},
     "output_type": "execute_result"
    }
   ],
   "source": [
    "# ステップ関数\n",
    "def step(x)\n",
    "  x > 0 # Numo::Bit を返す\n",
    "end"
   ]
  },
  {
   "cell_type": "code",
   "execution_count": 3,
   "metadata": {},
   "outputs": [
    {
     "data": {
      "text/plain": [
       ":sigmoid"
      ]
     },
     "execution_count": 3,
     "metadata": {},
     "output_type": "execute_result"
    }
   ],
   "source": [
    "# シグモイド関数\n",
    "def sigmoid(x)\n",
    "  1 / (1 + Numo::NMath.exp(-x)) # Numo::DFloat を返す\n",
    "end"
   ]
  },
  {
   "cell_type": "code",
   "execution_count": 4,
   "metadata": {},
   "outputs": [
    {
     "data": {
      "text/plain": [
       ":relu"
      ]
     },
     "execution_count": 4,
     "metadata": {},
     "output_type": "execute_result"
    }
   ],
   "source": [
    "# ReLU (Rectified Linear Unit) 関数\n",
    "def relu(x)\n",
    "  y = Numo::DFloat[x] # コピー\n",
    "  y[y < 0] = 0 # 0より小さい値の場合は0を代入する\n",
    "  y\n",
    "end"
   ]
  },
  {
   "cell_type": "code",
   "execution_count": 5,
   "metadata": {
    "collapsed": true
   },
   "outputs": [],
   "source": [
    "# データの作成\n",
    "x = Numo::DFloat.new(100).seq(-5.0, 0.1)\n",
    "y1 = step(x)\n",
    "y2 = sigmoid(x)\n",
    "y3 = relu(x)\n",
    "nil"
   ]
  },
  {
   "cell_type": "code",
   "execution_count": 6,
   "metadata": {},
   "outputs": [
    {
     "data": {
      "image/svg+xml": [
       "<?xml version=\"1.0\" encoding=\"utf-8\"  standalone=\"no\"?>\n",
       "<!DOCTYPE svg PUBLIC \"-//W3C//DTD SVG 1.1//EN\" \n",
       " \"http://www.w3.org/Graphics/SVG/1.1/DTD/svg11.dtd\">\n",
       "<svg \n",
       " width=\"600\" height=\"480\" \n",
       " viewBox=\"0 0 600 480\"\n",
       " xmlns=\"http://www.w3.org/2000/svg\"\n",
       " xmlns:xlink=\"http://www.w3.org/1999/xlink\"\n",
       ">\n",
       "\n",
       "<title>Gnuplot</title>\n",
       "<desc>Produced by GNUPLOT 4.6 patchlevel 6 </desc>\n",
       "\n",
       "<g id=\"gnuplot_canvas\">\n",
       "\n",
       "<rect x=\"0\" y=\"0\" width=\"600\" height=\"480\" fill=\"none\"/>\n",
       "<defs>\n",
       "\n",
       "\t<circle id='gpDot' r='0.5' stroke-width='0.5'/>\n",
       "\t<path id='gpPt0' stroke-width='0.222' stroke='currentColor' d='M-1,0 h2 M0,-1 v2'/>\n",
       "\t<path id='gpPt1' stroke-width='0.222' stroke='currentColor' d='M-1,-1 L1,1 M1,-1 L-1,1'/>\n",
       "\t<path id='gpPt2' stroke-width='0.222' stroke='currentColor' d='M-1,0 L1,0 M0,-1 L0,1 M-1,-1 L1,1 M-1,1 L1,-1'/>\n",
       "\t<rect id='gpPt3' stroke-width='0.222' stroke='currentColor' x='-1' y='-1' width='2' height='2'/>\n",
       "\t<rect id='gpPt4' stroke-width='0.222' stroke='currentColor' fill='currentColor' x='-1' y='-1' width='2' height='2'/>\n",
       "\t<circle id='gpPt5' stroke-width='0.222' stroke='currentColor' cx='0' cy='0' r='1'/>\n",
       "\t<use xlink:href='#gpPt5' id='gpPt6' fill='currentColor' stroke='none'/>\n",
       "\t<path id='gpPt7' stroke-width='0.222' stroke='currentColor' d='M0,-1.33 L-1.33,0.67 L1.33,0.67 z'/>\n",
       "\t<use xlink:href='#gpPt7' id='gpPt8' fill='currentColor' stroke='none'/>\n",
       "\t<use xlink:href='#gpPt7' id='gpPt9' stroke='currentColor' transform='rotate(180)'/>\n",
       "\t<use xlink:href='#gpPt9' id='gpPt10' fill='currentColor' stroke='none'/>\n",
       "\t<use xlink:href='#gpPt3' id='gpPt11' stroke='currentColor' transform='rotate(45)'/>\n",
       "\t<use xlink:href='#gpPt11' id='gpPt12' fill='currentColor' stroke='none'/>\n",
       "\t<filter id='greybox' filterUnits='objectBoundingBox' x='0' y='0' height='1' width='1'>\n",
       "\t  <feFlood flood-color='lightgrey' flood-opacity='1' result='grey'/>\n",
       "\t  <feComposite in='SourceGraphic' in2='grey' operator='atop'/>\n",
       "\t</filter>\n",
       "</defs>\n",
       "<g style=\"fill:none; color:white; stroke:currentColor; stroke-width:1.00; stroke-linecap:butt; stroke-linejoin:miter\">\n",
       "</g>\n",
       "<g style=\"fill:none; color:black; stroke:currentColor; stroke-width:1.00; stroke-linecap:butt; stroke-linejoin:miter\">\n",
       "\t<path stroke='black'  d='M37.3,429.6 L46.3,429.6 M575.0,429.6 L566.0,429.6  '/>\t<g transform=\"translate(29.0,434.1)\" style=\"stroke:none; fill:black; font-family:Arial; font-size:12.00pt; text-anchor:end\">\n",
       "\t\t<text> 0</text>\n",
       "\t</g>\n",
       "\t<path stroke='black'  d='M37.3,357.4 L46.3,357.4 M575.0,357.4 L566.0,357.4  '/>\t<g transform=\"translate(29.0,361.9)\" style=\"stroke:none; fill:black; font-family:Arial; font-size:12.00pt; text-anchor:end\">\n",
       "\t\t<text> 1</text>\n",
       "\t</g>\n",
       "\t<path stroke='black'  d='M37.3,285.2 L46.3,285.2 M575.0,285.2 L566.0,285.2  '/>\t<g transform=\"translate(29.0,289.7)\" style=\"stroke:none; fill:black; font-family:Arial; font-size:12.00pt; text-anchor:end\">\n",
       "\t\t<text> 2</text>\n",
       "\t</g>\n",
       "\t<path stroke='black'  d='M37.3,212.9 L46.3,212.9 M575.0,212.9 L566.0,212.9  '/>\t<g transform=\"translate(29.0,217.4)\" style=\"stroke:none; fill:black; font-family:Arial; font-size:12.00pt; text-anchor:end\">\n",
       "\t\t<text> 3</text>\n",
       "\t</g>\n",
       "\t<path stroke='black'  d='M37.3,140.7 L46.3,140.7 M575.0,140.7 L566.0,140.7  '/>\t<g transform=\"translate(29.0,145.2)\" style=\"stroke:none; fill:black; font-family:Arial; font-size:12.00pt; text-anchor:end\">\n",
       "\t\t<text> 4</text>\n",
       "\t</g>\n",
       "\t<path stroke='black'  d='M37.3,68.5 L46.3,68.5 M575.0,68.5 L566.0,68.5  '/>\t<g transform=\"translate(29.0,73.0)\" style=\"stroke:none; fill:black; font-family:Arial; font-size:12.00pt; text-anchor:end\">\n",
       "\t\t<text> 5</text>\n",
       "\t</g>\n",
       "\t<path stroke='black'  d='M110.6,444.0 L110.6,435.0 M110.6,54.1 L110.6,63.1  '/>\t<g transform=\"translate(110.6,466.5)\" style=\"stroke:none; fill:black; font-family:Arial; font-size:12.00pt; text-anchor:middle\">\n",
       "\t\t<text>-4</text>\n",
       "\t</g>\n",
       "\t<path stroke='black'  d='M208.4,444.0 L208.4,435.0 M208.4,54.1 L208.4,63.1  '/>\t<g transform=\"translate(208.4,466.5)\" style=\"stroke:none; fill:black; font-family:Arial; font-size:12.00pt; text-anchor:middle\">\n",
       "\t\t<text>-2</text>\n",
       "\t</g>\n",
       "\t<path stroke='black'  d='M306.2,444.0 L306.2,435.0 M306.2,54.1 L306.2,63.1  '/>\t<g transform=\"translate(306.2,466.5)\" style=\"stroke:none; fill:black; font-family:Arial; font-size:12.00pt; text-anchor:middle\">\n",
       "\t\t<text> 0</text>\n",
       "\t</g>\n",
       "\t<path stroke='black'  d='M403.9,444.0 L403.9,435.0 M403.9,54.1 L403.9,63.1  '/>\t<g transform=\"translate(403.9,466.5)\" style=\"stroke:none; fill:black; font-family:Arial; font-size:12.00pt; text-anchor:middle\">\n",
       "\t\t<text> 2</text>\n",
       "\t</g>\n",
       "\t<path stroke='black'  d='M501.7,444.0 L501.7,435.0 M501.7,54.1 L501.7,63.1  '/>\t<g transform=\"translate(501.7,466.5)\" style=\"stroke:none; fill:black; font-family:Arial; font-size:12.00pt; text-anchor:middle\">\n",
       "\t\t<text> 4</text>\n",
       "\t</g>\n",
       "\t<path stroke='black'  d='M37.3,54.1 L37.3,444.0 L575.0,444.0 L575.0,54.1 L37.3,54.1 Z  '/>\t<g transform=\"translate(306.1,31.6)\" style=\"stroke:none; fill:black; font-family:Arial; font-size:12.00pt; text-anchor:middle\">\n",
       "\t\t<text>Step, Sigmoid, ReLU</text>\n",
       "\t</g>\n",
       "\t<path stroke='black'  d='M45.6,117.1 L45.6,63.1 L162.5,63.1 L162.5,117.1 L45.6,117.1 Z  '/></g>\n",
       "\t<g id=\"gnuplot_plot_1\" ><title>gnuplot_plot_1</title>\n",
       "<g style=\"fill:none; color:white; stroke:black; stroke-width:3.00; stroke-linecap:butt; stroke-linejoin:miter\">\n",
       "</g>\n",
       "<g style=\"fill:none; color:red; stroke:currentColor; stroke-width:3.00; stroke-linecap:butt; stroke-linejoin:miter\">\n",
       "\t<g transform=\"translate(103.7,76.6)\" style=\"stroke:none; fill:black; font-family:Arial; font-size:12.00pt; text-anchor:end\">\n",
       "\t\t<text>Step</text>\n",
       "\t</g>\n",
       "\t<path  d='M112.0,72.1 L154.2,72.1 M61.7,429.6 L66.6,429.6 L71.5,429.6 L76.4,429.6 L81.3,429.6 L86.2,429.6 \n",
       "\t\tL91.1,429.6 L96.0,429.6 L100.8,429.6 L105.7,429.6 L110.6,429.6 L115.5,429.6 L120.4,429.6 L125.3,429.6 \n",
       "\t\tL130.2,429.6 L135.1,429.6 L140.0,429.6 L144.8,429.6 L149.7,429.6 L154.6,429.6 L159.5,429.6 L164.4,429.6 \n",
       "\t\tL169.3,429.6 L174.2,429.6 L179.1,429.6 L183.9,429.6 L188.8,429.6 L193.7,429.6 L198.6,429.6 L203.5,429.6 \n",
       "\t\tL208.4,429.6 L213.3,429.6 L218.2,429.6 L223.1,429.6 L227.9,429.6 L232.8,429.6 L237.7,429.6 L242.6,429.6 \n",
       "\t\tL247.5,429.6 L252.4,429.6 L257.3,429.6 L262.2,429.6 L267.0,429.6 L271.9,429.6 L276.8,429.6 L281.7,429.6 \n",
       "\t\tL286.6,429.6 L291.5,429.6 L296.4,429.6 L301.3,429.6 L306.2,429.6 L311.0,357.4 L315.9,357.4 L320.8,357.4 \n",
       "\t\tL325.7,357.4 L330.6,357.4 L335.5,357.4 L340.4,357.4 L345.3,357.4 L350.1,357.4 L355.0,357.4 L359.9,357.4 \n",
       "\t\tL364.8,357.4 L369.7,357.4 L374.6,357.4 L379.5,357.4 L384.4,357.4 L389.2,357.4 L394.1,357.4 L399.0,357.4 \n",
       "\t\tL403.9,357.4 L408.8,357.4 L413.7,357.4 L418.6,357.4 L423.5,357.4 L428.4,357.4 L433.2,357.4 L438.1,357.4 \n",
       "\t\tL443.0,357.4 L447.9,357.4 L452.8,357.4 L457.7,357.4 L462.6,357.4 L467.5,357.4 L472.3,357.4 L477.2,357.4 \n",
       "\t\tL482.1,357.4 L487.0,357.4 L491.9,357.4 L496.8,357.4 L501.7,357.4 L506.6,357.4 L511.5,357.4 L516.3,357.4 \n",
       "\t\tL521.2,357.4 L526.1,357.4 L531.0,357.4 L535.9,357.4 L540.8,357.4 L545.7,357.4  '/></g>\n",
       "\t</g>\n",
       "\t<g id=\"gnuplot_plot_2\" ><title>gnuplot_plot_2</title>\n",
       "<g style=\"fill:none; color:green; stroke:currentColor; stroke-width:3.00; stroke-linecap:butt; stroke-linejoin:miter\">\n",
       "\t<g transform=\"translate(103.7,94.6)\" style=\"stroke:none; fill:black; font-family:Arial; font-size:12.00pt; text-anchor:end\">\n",
       "\t\t<text>Sigmoid</text>\n",
       "\t</g>\n",
       "\t<path  d='M112.0,90.1 L154.2,90.1 M66.6,429.0 L71.5,429.0 L76.4,428.9 L81.3,428.8 L86.2,428.8 L91.1,428.7 \n",
       "\t\tL96.0,428.6 L100.8,428.5 L105.7,428.4 L110.6,428.3 L115.5,428.1 L120.4,428.0 L125.3,427.8 L130.2,427.6 \n",
       "\t\tL135.1,427.4 L140.0,427.2 L144.8,427.0 L149.7,426.7 L154.6,426.4 L159.5,426.1 L164.4,425.8 L169.3,425.4 \n",
       "\t\tL174.2,425.0 L179.1,424.6 L183.9,424.1 L188.8,423.6 L193.7,423.0 L198.6,422.4 L203.5,421.7 L208.4,421.0 \n",
       "\t\tL213.3,420.2 L218.2,419.3 L223.1,418.4 L227.9,417.4 L232.8,416.4 L237.7,415.3 L242.6,414.1 L247.5,412.8 \n",
       "\t\tL252.4,411.5 L257.3,410.1 L262.2,408.7 L267.0,407.2 L271.9,405.6 L276.8,404.0 L281.7,402.3 L286.6,400.6 \n",
       "\t\tL291.5,398.8 L296.4,397.1 L301.3,395.3 L306.2,393.5 L311.0,391.7 L315.9,389.9 L320.8,388.1 L325.7,386.3 \n",
       "\t\tL330.6,384.6 L335.5,382.9 L340.4,381.3 L345.3,379.7 L350.1,378.2 L355.0,376.8 L359.9,375.4 L364.8,374.1 \n",
       "\t\tL369.7,372.8 L374.6,371.6 L379.5,370.5 L384.4,369.5 L389.2,368.5 L394.1,367.6 L399.0,366.7 L403.9,366.0 \n",
       "\t\tL408.8,365.2 L413.7,364.6 L418.6,363.9 L423.5,363.4 L428.4,362.8 L433.2,362.3 L438.1,361.9 L443.0,361.5 \n",
       "\t\tL447.9,361.1 L452.8,360.8 L457.7,360.5 L462.6,360.2 L467.5,359.9 L472.3,359.7 L477.2,359.5 L482.1,359.3 \n",
       "\t\tL487.0,359.1 L491.9,358.9 L496.8,358.8 L501.7,358.7 L506.6,358.5 L511.5,358.4 L516.3,358.3 L521.2,358.2 \n",
       "\t\tL526.1,358.1 L531.0,358.1 L535.9,358.0 L540.8,357.9 L545.7,357.9  '/></g>\n",
       "\t</g>\n",
       "\t<g id=\"gnuplot_plot_3\" ><title>gnuplot_plot_3</title>\n",
       "<g style=\"fill:none; color:blue; stroke:currentColor; stroke-width:3.00; stroke-linecap:butt; stroke-linejoin:miter\">\n",
       "\t<g transform=\"translate(103.7,112.6)\" style=\"stroke:none; fill:black; font-family:Arial; font-size:12.00pt; text-anchor:end\">\n",
       "\t\t<text>ReLU</text>\n",
       "\t</g>\n",
       "\t<path  d='M112.0,108.1 L154.2,108.1 M66.6,429.6 L71.5,429.6 L76.4,429.6 L81.3,429.6 L86.2,429.6 L91.1,429.6 \n",
       "\t\tL96.0,429.6 L100.8,429.6 L105.7,429.6 L110.6,429.6 L115.5,429.6 L120.4,429.6 L125.3,429.6 L130.2,429.6 \n",
       "\t\tL135.1,429.6 L140.0,429.6 L144.8,429.6 L149.7,429.6 L154.6,429.6 L159.5,429.6 L164.4,429.6 L169.3,429.6 \n",
       "\t\tL174.2,429.6 L179.1,429.6 L183.9,429.6 L188.8,429.6 L193.7,429.6 L198.6,429.6 L203.5,429.6 L208.4,429.6 \n",
       "\t\tL213.3,429.6 L218.2,429.6 L223.1,429.6 L227.9,429.6 L232.8,429.6 L237.7,429.6 L242.6,429.6 L247.5,429.6 \n",
       "\t\tL252.4,429.6 L257.3,429.6 L262.2,429.6 L267.0,429.6 L271.9,429.6 L276.8,429.6 L281.7,429.6 L286.6,429.6 \n",
       "\t\tL291.5,429.6 L296.4,429.6 L301.3,429.6 L306.2,429.6 L311.0,422.3 L315.9,415.1 L320.8,407.9 L325.7,400.7 \n",
       "\t\tL330.6,393.5 L335.5,386.2 L340.4,379.0 L345.3,371.8 L350.1,364.6 L355.0,357.4 L359.9,350.1 L364.8,342.9 \n",
       "\t\tL369.7,335.7 L374.6,328.5 L379.5,321.3 L384.4,314.0 L389.2,306.8 L394.1,299.6 L399.0,292.4 L403.9,285.2 \n",
       "\t\tL408.8,277.9 L413.7,270.7 L418.6,263.5 L423.5,256.3 L428.4,249.0 L433.2,241.8 L438.1,234.6 L443.0,227.4 \n",
       "\t\tL447.9,220.2 L452.8,212.9 L457.7,205.7 L462.6,198.5 L467.5,191.3 L472.3,184.1 L477.2,176.8 L482.1,169.6 \n",
       "\t\tL487.0,162.4 L491.9,155.2 L496.8,148.0 L501.7,140.7 L506.6,133.5 L511.5,126.3 L516.3,119.1 L521.2,111.9 \n",
       "\t\tL526.1,104.6 L531.0,97.4 L535.9,90.2 L540.8,83.0 L545.7,75.8  '/></g>\n",
       "\t</g>\n",
       "<g style=\"fill:none; color:white; stroke:currentColor; stroke-width:1.00; stroke-linecap:butt; stroke-linejoin:miter\">\n",
       "</g>\n",
       "<g style=\"fill:none; color:black; stroke:currentColor; stroke-width:1.00; stroke-linecap:butt; stroke-linejoin:miter\">\n",
       "\t<path stroke='black'  d='M37.3,54.1 L37.3,444.0 L575.0,444.0 L575.0,54.1 L37.3,54.1 Z  '/></g>\n",
       "</g>\n",
       "</svg>\n",
       "\n"
      ],
      "text/plain": [
       "#<Numo::Gnuplot::NotePlot:0x005598d557e2e8 @block=#<Proc:0x005598d557e310@(pry):24>>"
      ]
     },
     "execution_count": 6,
     "metadata": {},
     "output_type": "execute_result"
    }
   ],
   "source": [
    "# グラフの描画\n",
    "g = Numo::noteplot do\n",
    "  # set term: {png: {size: [480, 640]}} # 画像サイズ\n",
    "  # set output: 'ruby_graph.png'\n",
    "  set title: 'Step, Sigmoid, ReLU' # タイトル\n",
    "  set key: 'box left top'\n",
    "  set xrange: -5.5...5.5 # x軸の範囲\n",
    "  set yrange: -0.2...5.2 # y軸の範囲\n",
    "  set offset: [0, 0, 0, 0]\n",
    "  plot x, y1, {w: 'lines', lw: 3, title: 'Step'},\n",
    "       x, y2, {w: 'lines', lw: 3, title: 'Sigmoid'},\n",
    "       x, y3, {w: 'lines', lw: 3, title: 'ReLU'}\n",
    "end"
   ]
  },
  {
   "cell_type": "code",
   "execution_count": 7,
   "metadata": {},
   "outputs": [
    {
     "data": {
      "text/plain": [
       ":init_network"
      ]
     },
     "execution_count": 7,
     "metadata": {},
     "output_type": "execute_result"
    }
   ],
   "source": [
    "# 重みとバイアスの初期化\n",
    "def init_network()\n",
    "  network = {}\n",
    "  network['W1'] = Numo::DFloat[[0.1, 0.3, 0.5], [0.2, 0.4, 0.6]]\n",
    "  network['b1'] = Numo::DFloat[0.1, 0.2, 0.3]\n",
    "  network['W2'] = Numo::DFloat[[0.1, 0.4], [0.2, 0.5], [0.3, 0.6]]\n",
    "  network['b2'] = Numo::DFloat[0.1, 0.2]\n",
    "  network['W3'] = Numo::DFloat[[0.1, 0.3], [0.2, 0.4]]\n",
    "  network['b3'] = Numo::DFloat[0.1, 0.2]\n",
    "  network\n",
    "end"
   ]
  },
  {
   "cell_type": "code",
   "execution_count": 8,
   "metadata": {},
   "outputs": [
    {
     "data": {
      "text/plain": [
       ":forword"
      ]
     },
     "execution_count": 8,
     "metadata": {},
     "output_type": "execute_result"
    }
   ],
   "source": [
    "# 入力信号を出力へと変換\n",
    "def forword(network, x)\n",
    "  w1 = network['W1']; w2 = network['W2']; w3 = network['W3']\n",
    "  b1 = network['b1']; b2 = network['b2']; b3 = network['b3']\n",
    "  a1 = x.dot(w1) + b1\n",
    "  z1 = sigmoid(a1)\n",
    "  a2 = z1.dot(w2) + b2\n",
    "  z2 = sigmoid(a2)\n",
    "  a3 = z2.dot(w3) + b3\n",
    "  identity_function(a3)\n",
    "end"
   ]
  },
  {
   "cell_type": "code",
   "execution_count": 9,
   "metadata": {},
   "outputs": [
    {
     "data": {
      "text/plain": [
       ":identity_function"
      ]
     },
     "execution_count": 9,
     "metadata": {},
     "output_type": "execute_result"
    }
   ],
   "source": [
    "# 恒等関数\n",
    "def identity_function(x)\n",
    "  x\n",
    "end"
   ]
  },
  {
   "cell_type": "code",
   "execution_count": 10,
   "metadata": {},
   "outputs": [
    {
     "data": {
      "text/plain": [
       ":sigmoid"
      ]
     },
     "execution_count": 10,
     "metadata": {},
     "output_type": "execute_result"
    }
   ],
   "source": [
    "# シグモイド関数\n",
    "def sigmoid(x)\n",
    "  1 / (1 + Numo::NMath.exp(-x)) # Numo::DFloat を返す\n",
    "end"
   ]
  },
  {
   "cell_type": "code",
   "execution_count": 11,
   "metadata": {},
   "outputs": [
    {
     "data": {
      "text/latex": [
       "$$\\left(\\begin{array}{cc} 0.3168270764110298 & 0.6962790898619668 \\end{array}\\right)$$"
      ],
      "text/plain": [
       "Numo::DFloat#shape=[2]\n",
       "[0.316827, 0.696279]"
      ]
     },
     "execution_count": 11,
     "metadata": {},
     "output_type": "execute_result"
    }
   ],
   "source": [
    "# 実行\n",
    "network = init_network()\n",
    "x = Numo::DFloat[1.0, 0.5] # 入力層\n",
    "y = forword(network, x)"
   ]
  },
  {
   "cell_type": "code",
   "execution_count": null,
   "metadata": {
    "collapsed": true
   },
   "outputs": [],
   "source": []
  }
 ],
 "metadata": {
  "kernelspec": {
   "display_name": "Ruby 2.4.0",
   "language": "ruby",
   "name": "ruby"
  },
  "language_info": {
   "file_extension": ".rb",
   "mimetype": "application/x-ruby",
   "name": "ruby",
   "version": "2.4.0"
  }
 },
 "nbformat": 4,
 "nbformat_minor": 2
}
