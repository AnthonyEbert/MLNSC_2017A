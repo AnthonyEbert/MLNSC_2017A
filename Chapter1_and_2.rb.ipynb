{
 "cells": [
  {
   "cell_type": "code",
   "execution_count": 1,
   "metadata": {},
   "outputs": [
    {
     "data": {
      "text/plain": [
       "\"2.4.0\""
      ]
     },
     "execution_count": 1,
     "metadata": {},
     "output_type": "execute_result"
    }
   ],
   "source": [
    "RUBY_VERSION"
   ]
  },
  {
   "cell_type": "code",
   "execution_count": 2,
   "metadata": {},
   "outputs": [
    {
     "data": {
      "text/plain": [
       "\"0.3\""
      ]
     },
     "execution_count": 2,
     "metadata": {},
     "output_type": "execute_result"
    }
   ],
   "source": [
    "IRuby::VERSION"
   ]
  },
  {
   "cell_type": "code",
   "execution_count": 3,
   "metadata": {},
   "outputs": [
    {
     "data": {
      "text/plain": [
       "true"
      ]
     },
     "execution_count": 3,
     "metadata": {},
     "output_type": "execute_result"
    }
   ],
   "source": [
    "require 'numo/narray'\n",
    "require 'numo/gnuplot'"
   ]
  },
  {
   "cell_type": "markdown",
   "metadata": {},
   "source": [
    "## Chapter1"
   ]
  },
  {
   "cell_type": "markdown",
   "metadata": {},
   "source": [
    "参照： http://qiita.com/niwasawa/items/6d9aba43f3cdba5ca725 by [@niwasawa](http://qiita.com/niwasawa)"
   ]
  },
  {
   "cell_type": "code",
   "execution_count": 4,
   "metadata": {
    "collapsed": true
   },
   "outputs": [],
   "source": [
    "# データの作成\n",
    "x = Numo::DFloat.new(60).seq(0, 0.1) # 0から6まで0.1刻みで生成\n",
    "y1 = Numo::DFloat::Math.sin(x)\n",
    "y2 = Numo::DFloat::Math.cos(x)\n",
    "nil"
   ]
  },
  {
   "cell_type": "code",
   "execution_count": 5,
   "metadata": {},
   "outputs": [
    {
     "data": {
      "text/plain": [
       "[0.0, 0.1, 0.2, 0.30000000000000004, 0.4, 0.5, 0.6000000000000001, 0.7000000000000001, 0.8, 0.9, 1.0, 1.1, 1.2000000000000002, 1.3, 1.4000000000000001, 1.5, 1.6, 1.7000000000000002, 1.8, 1.9000000000000001, 2.0, 2.1, 2.2, 2.3000000000000003, 2.4000000000000004, 2.5, 2.6, 2.7, 2.8000000000000003, 2.9000000000000004, 3.0, 3.1, 3.2, 3.3000000000000003, 3.4000000000000004, 3.5, 3.6, 3.7, 3.8000000000000003, 3.9000000000000004, 4.0, 4.1000000000000005, 4.2, 4.3, 4.4, 4.5, 4.6000000000000005, 4.7, 4.800000000000001, 4.9, 5.0, 5.1000000000000005, 5.2, 5.300000000000001, 5.4, 5.5, 5.6000000000000005, 5.7, 5.800000000000001, 5.9]"
      ]
     },
     "execution_count": 5,
     "metadata": {},
     "output_type": "execute_result"
    }
   ],
   "source": [
    "x.to_a"
   ]
  },
  {
   "cell_type": "code",
   "execution_count": 6,
   "metadata": {},
   "outputs": [
    {
     "data": {
      "text/plain": [
       "[0.0, 0.09983341664682815, 0.19866933079506122, 0.2955202066613396, 0.3894183423086505, 0.479425538604203, 0.5646424733950355, 0.6442176872376911, 0.7173560908995228, 0.7833269096274834, 0.8414709848078965, 0.8912073600614354, 0.9320390859672264, 0.963558185417193, 0.9854497299884603, 0.9974949866040544, 0.9995736030415051, 0.9916648104524686, 0.9738476308781951, 0.9463000876874145, 0.9092974268256817, 0.8632093666488737, 0.8084964038195901, 0.74570521217672, 0.6754631805511506, 0.5984721441039565, 0.5155013718214642, 0.4273798802338298, 0.33498815015590466, 0.23924932921398198, 0.1411200080598672, 0.04158066243329049, -0.058374143427580086, -0.15774569414324865, -0.25554110202683167, -0.35078322768961984, -0.44252044329485246, -0.5298361409084934, -0.6118578909427193, -0.6877661591839741, -0.7568024953079282, -0.8182771110644108, -0.8715757724135882, -0.9161659367494549, -0.951602073889516, -0.977530117665097, -0.9936910036334645, -0.9999232575641008, -0.9961646088358406, -0.9824526126243325, -0.9589242746631385, -0.9258146823277321, -0.8834546557201531, -0.8322674422239008, -0.7727644875559871, -0.7055403255703919, -0.6312666378723208, -0.5506855425976376, -0.4646021794137566, -0.373876664830236]"
      ]
     },
     "execution_count": 6,
     "metadata": {},
     "output_type": "execute_result"
    }
   ],
   "source": [
    "y1.to_a"
   ]
  },
  {
   "cell_type": "code",
   "execution_count": 7,
   "metadata": {},
   "outputs": [
    {
     "data": {
      "text/plain": [
       "[1.0, 0.9950041652780258, 0.9800665778412416, 0.955336489125606, 0.9210609940028851, 0.8775825618903728, 0.8253356149096782, 0.7648421872844884, 0.6967067093471654, 0.6216099682706644, 0.5403023058681398, 0.4535961214255773, 0.3623577544766734, 0.26749882862458735, 0.16996714290024081, 0.0707372016677029, -0.029199522301288815, -0.12884449429552486, -0.2272020946930871, -0.3232895668635036, -0.4161468365471424, -0.5048461045998576, -0.5885011172553458, -0.6662760212798244, -0.7373937155412458, -0.8011436155469337, -0.8568887533689473, -0.9040721420170612, -0.9422223406686583, -0.9709581651495907, -0.9899924966004454, -0.9991351502732795, -0.9982947757947531, -0.9874797699088649, -0.9667981925794609, -0.9364566872907963, -0.896758416334147, -0.848100031710408, -0.7909677119144165, -0.7259323042001399, -0.6536436208636119, -0.5748239465332685, -0.4902608213406994, -0.40079917207997545, -0.30733286997841935, -0.2107957994307797, -0.11215252693505398, -0.01238866346289056, 0.08749898343944727, 0.18651236942257576, 0.28366218546322625, 0.37797774271298107, 0.4685166713003771, 0.5543743361791615, 0.6346928759426347, 0.70866977429126, 0.7755658785102502, 0.8347127848391598, 0.8855195169413194, 0.9274784307440359]"
      ]
     },
     "execution_count": 7,
     "metadata": {},
     "output_type": "execute_result"
    }
   ],
   "source": [
    "y2.to_a"
   ]
  },
  {
   "cell_type": "code",
   "execution_count": 8,
   "metadata": {},
   "outputs": [
    {
     "data": {
      "image/svg+xml": [
       "<?xml version=\"1.0\" encoding=\"utf-8\"  standalone=\"no\"?>\n",
       "<!DOCTYPE svg PUBLIC \"-//W3C//DTD SVG 1.1//EN\" \n",
       " \"http://www.w3.org/Graphics/SVG/1.1/DTD/svg11.dtd\">\n",
       "<svg \n",
       " width=\"600\" height=\"480\" \n",
       " viewBox=\"0 0 600 480\"\n",
       " xmlns=\"http://www.w3.org/2000/svg\"\n",
       " xmlns:xlink=\"http://www.w3.org/1999/xlink\"\n",
       ">\n",
       "\n",
       "<title>Gnuplot</title>\n",
       "<desc>Produced by GNUPLOT 4.6 patchlevel 6 </desc>\n",
       "\n",
       "<g id=\"gnuplot_canvas\">\n",
       "\n",
       "<rect x=\"0\" y=\"0\" width=\"600\" height=\"480\" fill=\"none\"/>\n",
       "<defs>\n",
       "\n",
       "\t<circle id='gpDot' r='0.5' stroke-width='0.5'/>\n",
       "\t<path id='gpPt0' stroke-width='0.222' stroke='currentColor' d='M-1,0 h2 M0,-1 v2'/>\n",
       "\t<path id='gpPt1' stroke-width='0.222' stroke='currentColor' d='M-1,-1 L1,1 M1,-1 L-1,1'/>\n",
       "\t<path id='gpPt2' stroke-width='0.222' stroke='currentColor' d='M-1,0 L1,0 M0,-1 L0,1 M-1,-1 L1,1 M-1,1 L1,-1'/>\n",
       "\t<rect id='gpPt3' stroke-width='0.222' stroke='currentColor' x='-1' y='-1' width='2' height='2'/>\n",
       "\t<rect id='gpPt4' stroke-width='0.222' stroke='currentColor' fill='currentColor' x='-1' y='-1' width='2' height='2'/>\n",
       "\t<circle id='gpPt5' stroke-width='0.222' stroke='currentColor' cx='0' cy='0' r='1'/>\n",
       "\t<use xlink:href='#gpPt5' id='gpPt6' fill='currentColor' stroke='none'/>\n",
       "\t<path id='gpPt7' stroke-width='0.222' stroke='currentColor' d='M0,-1.33 L-1.33,0.67 L1.33,0.67 z'/>\n",
       "\t<use xlink:href='#gpPt7' id='gpPt8' fill='currentColor' stroke='none'/>\n",
       "\t<use xlink:href='#gpPt7' id='gpPt9' stroke='currentColor' transform='rotate(180)'/>\n",
       "\t<use xlink:href='#gpPt9' id='gpPt10' fill='currentColor' stroke='none'/>\n",
       "\t<use xlink:href='#gpPt3' id='gpPt11' stroke='currentColor' transform='rotate(45)'/>\n",
       "\t<use xlink:href='#gpPt11' id='gpPt12' fill='currentColor' stroke='none'/>\n",
       "\t<filter id='greybox' filterUnits='objectBoundingBox' x='0' y='0' height='1' width='1'>\n",
       "\t  <feFlood flood-color='lightgrey' flood-opacity='1' result='grey'/>\n",
       "\t  <feComposite in='SourceGraphic' in2='grey' operator='atop'/>\n",
       "\t</filter>\n",
       "</defs>\n",
       "<g style=\"fill:none; color:white; stroke:currentColor; stroke-width:1.00; stroke-linecap:butt; stroke-linejoin:miter\">\n",
       "</g>\n",
       "<g style=\"fill:none; color:black; stroke:currentColor; stroke-width:1.00; stroke-linecap:butt; stroke-linejoin:miter\">\n",
       "\t<path stroke='black'  d='M53.9,444.0 L62.9,444.0 M575.0,444.0 L566.0,444.0  '/>\t<g transform=\"translate(45.6,448.5)\" style=\"stroke:none; fill:black; font-family:Arial; font-size:12.00pt; text-anchor:end\">\n",
       "\t\t<text>-1</text>\n",
       "\t</g>\n",
       "\t<path stroke='black'  d='M53.9,405.0 L62.9,405.0 M575.0,405.0 L566.0,405.0  '/>\t<g transform=\"translate(45.6,409.5)\" style=\"stroke:none; fill:black; font-family:Arial; font-size:12.00pt; text-anchor:end\">\n",
       "\t\t<text>-0.8</text>\n",
       "\t</g>\n",
       "\t<path stroke='black'  d='M53.9,366.0 L62.9,366.0 M575.0,366.0 L566.0,366.0  '/>\t<g transform=\"translate(45.6,370.5)\" style=\"stroke:none; fill:black; font-family:Arial; font-size:12.00pt; text-anchor:end\">\n",
       "\t\t<text>-0.6</text>\n",
       "\t</g>\n",
       "\t<path stroke='black'  d='M53.9,327.0 L62.9,327.0 M575.0,327.0 L566.0,327.0  '/>\t<g transform=\"translate(45.6,331.5)\" style=\"stroke:none; fill:black; font-family:Arial; font-size:12.00pt; text-anchor:end\">\n",
       "\t\t<text>-0.4</text>\n",
       "\t</g>\n",
       "\t<path stroke='black'  d='M53.9,288.0 L62.9,288.0 M575.0,288.0 L566.0,288.0  '/>\t<g transform=\"translate(45.6,292.5)\" style=\"stroke:none; fill:black; font-family:Arial; font-size:12.00pt; text-anchor:end\">\n",
       "\t\t<text>-0.2</text>\n",
       "\t</g>\n",
       "\t<path stroke='black'  d='M53.9,249.0 L62.9,249.0 M575.0,249.0 L566.0,249.0  '/>\t<g transform=\"translate(45.6,253.5)\" style=\"stroke:none; fill:black; font-family:Arial; font-size:12.00pt; text-anchor:end\">\n",
       "\t\t<text> 0</text>\n",
       "\t</g>\n",
       "\t<path stroke='black'  d='M53.9,210.1 L62.9,210.1 M575.0,210.1 L566.0,210.1  '/>\t<g transform=\"translate(45.6,214.6)\" style=\"stroke:none; fill:black; font-family:Arial; font-size:12.00pt; text-anchor:end\">\n",
       "\t\t<text> 0.2</text>\n",
       "\t</g>\n",
       "\t<path stroke='black'  d='M53.9,171.1 L62.9,171.1 M575.0,171.1 L566.0,171.1  '/>\t<g transform=\"translate(45.6,175.6)\" style=\"stroke:none; fill:black; font-family:Arial; font-size:12.00pt; text-anchor:end\">\n",
       "\t\t<text> 0.4</text>\n",
       "\t</g>\n",
       "\t<path stroke='black'  d='M53.9,132.1 L62.9,132.1 M575.0,132.1 L566.0,132.1  '/>\t<g transform=\"translate(45.6,136.6)\" style=\"stroke:none; fill:black; font-family:Arial; font-size:12.00pt; text-anchor:end\">\n",
       "\t\t<text> 0.6</text>\n",
       "\t</g>\n",
       "\t<path stroke='black'  d='M53.9,93.1 L62.9,93.1 M575.0,93.1 L566.0,93.1  '/>\t<g transform=\"translate(45.6,97.6)\" style=\"stroke:none; fill:black; font-family:Arial; font-size:12.00pt; text-anchor:end\">\n",
       "\t\t<text> 0.8</text>\n",
       "\t</g>\n",
       "\t<path stroke='black'  d='M53.9,54.1 L62.9,54.1 M575.0,54.1 L566.0,54.1  '/>\t<g transform=\"translate(45.6,58.6)\" style=\"stroke:none; fill:black; font-family:Arial; font-size:12.00pt; text-anchor:end\">\n",
       "\t\t<text> 1</text>\n",
       "\t</g>\n",
       "\t<path stroke='black'  d='M53.9,444.0 L53.9,435.0 M53.9,54.1 L53.9,63.1  '/>\t<g transform=\"translate(53.9,466.5)\" style=\"stroke:none; fill:black; font-family:Arial; font-size:12.00pt; text-anchor:middle\">\n",
       "\t\t<text> 0</text>\n",
       "\t</g>\n",
       "\t<path stroke='black'  d='M140.8,444.0 L140.8,435.0 M140.8,54.1 L140.8,63.1  '/>\t<g transform=\"translate(140.8,466.5)\" style=\"stroke:none; fill:black; font-family:Arial; font-size:12.00pt; text-anchor:middle\">\n",
       "\t\t<text> 1</text>\n",
       "\t</g>\n",
       "\t<path stroke='black'  d='M227.6,444.0 L227.6,435.0 M227.6,54.1 L227.6,63.1  '/>\t<g transform=\"translate(227.6,466.5)\" style=\"stroke:none; fill:black; font-family:Arial; font-size:12.00pt; text-anchor:middle\">\n",
       "\t\t<text> 2</text>\n",
       "\t</g>\n",
       "\t<path stroke='black'  d='M314.5,444.0 L314.5,435.0 M314.5,54.1 L314.5,63.1  '/>\t<g transform=\"translate(314.5,466.5)\" style=\"stroke:none; fill:black; font-family:Arial; font-size:12.00pt; text-anchor:middle\">\n",
       "\t\t<text> 3</text>\n",
       "\t</g>\n",
       "\t<path stroke='black'  d='M401.3,444.0 L401.3,435.0 M401.3,54.1 L401.3,63.1  '/>\t<g transform=\"translate(401.3,466.5)\" style=\"stroke:none; fill:black; font-family:Arial; font-size:12.00pt; text-anchor:middle\">\n",
       "\t\t<text> 4</text>\n",
       "\t</g>\n",
       "\t<path stroke='black'  d='M488.2,444.0 L488.2,435.0 M488.2,54.1 L488.2,63.1  '/>\t<g transform=\"translate(488.2,466.5)\" style=\"stroke:none; fill:black; font-family:Arial; font-size:12.00pt; text-anchor:middle\">\n",
       "\t\t<text> 5</text>\n",
       "\t</g>\n",
       "\t<path stroke='black'  d='M575.0,444.0 L575.0,435.0 M575.0,54.1 L575.0,63.1  '/>\t<g transform=\"translate(575.0,466.5)\" style=\"stroke:none; fill:black; font-family:Arial; font-size:12.00pt; text-anchor:middle\">\n",
       "\t\t<text> 6</text>\n",
       "\t</g>\n",
       "\t<path stroke='black'  d='M53.9,54.1 L53.9,444.0 L575.0,444.0 L575.0,54.1 L53.9,54.1 Z  '/>\t<g transform=\"translate(314.4,31.6)\" style=\"stroke:none; fill:black; font-family:Arial; font-size:12.00pt; text-anchor:middle\">\n",
       "\t\t<text>sin &amp; cos</text>\n",
       "\t</g>\n",
       "\t<path stroke='black'  d='M62.2,435.0 L62.2,399.0 L145.9,399.0 L145.9,435.0 L62.2,435.0 Z  '/></g>\n",
       "\t<g id=\"gnuplot_plot_1\" ><title>gnuplot_plot_1</title>\n",
       "<g style=\"fill:none; color:white; stroke:black; stroke-width:3.00; stroke-linecap:butt; stroke-linejoin:miter\">\n",
       "</g>\n",
       "<g style=\"fill:none; color:red; stroke:currentColor; stroke-width:3.00; stroke-linecap:butt; stroke-linejoin:miter\">\n",
       "\t<g transform=\"translate(87.1,412.5)\" style=\"stroke:none; fill:black; font-family:Arial; font-size:12.00pt; text-anchor:end\">\n",
       "\t\t<text>sin</text>\n",
       "\t</g>\n",
       "\t<path  d='M95.4,408.0 L137.6,408.0 M53.9,249.0 L62.6,229.6 L71.3,210.3 L80.0,191.4 L88.6,173.1 L97.3,155.6 \n",
       "\t\tL106.0,139.0 L114.7,123.5 L123.4,109.2 L132.1,96.3 L140.8,85.0 L149.4,75.3 L158.1,67.3 L166.8,61.2 \n",
       "\t\tL175.5,56.9 L184.2,54.6 L192.9,54.2 L201.5,55.7 L210.2,59.2 L218.9,64.6 L227.6,71.8 L236.3,80.8 \n",
       "\t\tL245.0,91.4 L253.7,103.7 L262.3,117.4 L271.0,132.4 L279.7,148.6 L288.4,165.7 L297.1,183.7 L305.8,202.4 \n",
       "\t\tL314.5,221.5 L323.1,240.9 L331.8,260.4 L340.5,279.8 L349.2,298.9 L357.9,317.4 L366.6,335.3 L375.2,352.3 \n",
       "\t\tL383.9,368.3 L392.6,383.1 L401.3,396.6 L410.0,408.6 L418.7,419.0 L427.4,427.7 L436.0,434.6 L444.7,439.6 \n",
       "\t\tL453.4,442.8 L462.1,444.0 L470.8,443.3 L479.5,440.6 L488.2,436.0 L496.8,429.5 L505.5,421.3 L514.2,411.3 \n",
       "\t\tL522.9,399.7 L531.6,386.6 L540.3,372.1 L548.9,356.4 L557.6,339.6 L566.3,321.9  '/></g>\n",
       "\t</g>\n",
       "\t<g id=\"gnuplot_plot_2\" ><title>gnuplot_plot_2</title>\n",
       "<g style=\"fill:none; color:green; stroke:currentColor; stroke-width:3.00; stroke-linecap:butt; stroke-linejoin:miter\">\n",
       "\t<g transform=\"translate(87.1,430.5)\" style=\"stroke:none; fill:black; font-family:Arial; font-size:12.00pt; text-anchor:end\">\n",
       "\t\t<text>cos</text>\n",
       "\t</g>\n",
       "\t<path  d='M95.4,426.0 L137.6,426.0 M62.6,55.1 L71.3,58.0 L80.0,62.8 L88.6,69.5 L97.3,78.0 L106.0,88.2 \n",
       "\t\tL114.7,99.9 L123.4,113.2 L132.1,127.9 L140.8,143.7 L149.4,160.6 L158.1,178.4 L166.8,196.9 L175.5,215.9 \n",
       "\t\tL184.2,235.3 L192.9,254.7 L201.5,274.2 L210.2,293.3 L218.9,312.1 L227.6,330.2 L236.3,347.5 L245.0,363.8 \n",
       "\t\tL253.7,378.9 L262.3,392.8 L271.0,405.2 L279.7,416.1 L288.4,425.3 L297.1,432.7 L305.8,438.3 L314.5,442.0 \n",
       "\t\tL323.1,443.8 L331.8,443.7 L340.5,441.6 L349.2,437.5 L357.9,431.6 L366.6,423.9 L375.2,414.4 L383.9,403.2 \n",
       "\t\tL392.6,390.6 L401.3,376.5 L410.0,361.1 L418.7,344.6 L427.4,327.2 L436.0,309.0 L444.7,290.1 L453.4,270.9 \n",
       "\t\tL462.1,251.5 L470.8,232.0 L479.5,212.7 L488.2,193.8 L496.8,175.4 L505.5,157.7 L514.2,141.0 L522.9,125.3 \n",
       "\t\tL531.6,110.9 L540.3,97.9 L548.9,86.3 L557.6,76.4 L566.3,68.2  '/></g>\n",
       "\t</g>\n",
       "<g style=\"fill:none; color:white; stroke:currentColor; stroke-width:1.00; stroke-linecap:butt; stroke-linejoin:miter\">\n",
       "</g>\n",
       "<g style=\"fill:none; color:black; stroke:currentColor; stroke-width:1.00; stroke-linecap:butt; stroke-linejoin:miter\">\n",
       "\t<path stroke='black'  d='M53.9,54.1 L53.9,444.0 L575.0,444.0 L575.0,54.1 L53.9,54.1 Z  '/></g>\n",
       "</g>\n",
       "</svg>\n",
       "\n"
      ],
      "text/plain": [
       "#<Numo::Gnuplot::NotePlot:0x00556cdb2d8348 @block=#<Proc:0x00556cdb2d8370@(pry):14>>"
      ]
     },
     "execution_count": 8,
     "metadata": {},
     "output_type": "execute_result"
    }
   ],
   "source": [
    "# グラフの描画\n",
    "g = Numo.noteplot do\n",
    "  # set term: {png: {size: [640, 480]}} # 画像サイズ\n",
    "  # set output: 'ruby_graph.png'\n",
    "  set title: 'sin & cos' # タイトル\n",
    "  set key: 'box left bottom'\n",
    "  set offset: [0, 0, 0, 0]\n",
    "  plot x, y1, {w: 'lines', lw: 3, title: 'sin'},\n",
    "       x, y2, {w: 'lines', lw: 3, title: 'cos'}\n",
    "end"
   ]
  },
  {
   "cell_type": "markdown",
   "metadata": {},
   "source": [
    "## Chapter2"
   ]
  },
  {
   "cell_type": "markdown",
   "metadata": {},
   "source": [
    "参照： http://qiita.com/niwasawa/items/73f604f956d043671f39 by [@niwasawa](http://qiita.com/niwasawa)"
   ]
  },
  {
   "cell_type": "code",
   "execution_count": 9,
   "metadata": {},
   "outputs": [
    {
     "data": {
      "text/plain": [
       ":AND"
      ]
     },
     "execution_count": 9,
     "metadata": {},
     "output_type": "execute_result"
    }
   ],
   "source": [
    "def AND(x1, x2)\n",
    "  x = Numo::DFloat[x1, x2]\n",
    "  w = Numo::DFloat[0.5, 0.5] # 重み\n",
    "  b = -0.7 # バイアス\n",
    "  tmp = (w*x).sum + b\n",
    "  if tmp <= 0\n",
    "    0\n",
    "  else\n",
    "    1\n",
    "  end\n",
    "end"
   ]
  },
  {
   "cell_type": "code",
   "execution_count": 10,
   "metadata": {},
   "outputs": [
    {
     "name": "stdout",
     "output_type": "stream",
     "text": [
      "(0, 0) -> 0\n",
      "(1, 0) -> 0\n",
      "(0, 1) -> 0\n",
      "(1, 1) -> 1\n"
     ]
    },
    {
     "data": {
      "text/plain": [
       "[[0, 0], [1, 0], [0, 1], [1, 1]]"
      ]
     },
     "execution_count": 10,
     "metadata": {},
     "output_type": "execute_result"
    }
   ],
   "source": [
    "[[0, 0], [1, 0], [0, 1], [1, 1]].each do |x1, x2|\n",
    "  y = AND(x1, x2)\n",
    "  puts \"(#{x1}, #{x2}) -> #{y}\"\n",
    "end"
   ]
  },
  {
   "cell_type": "code",
   "execution_count": 11,
   "metadata": {},
   "outputs": [
    {
     "data": {
      "text/plain": [
       ":NAND"
      ]
     },
     "execution_count": 11,
     "metadata": {},
     "output_type": "execute_result"
    }
   ],
   "source": [
    "def NAND(x1, x2)\n",
    "  x = Numo::DFloat[x1, x2]\n",
    "  w = Numo::DFloat[-0.5, -0.5]\n",
    "  b = 0.7\n",
    "  tmp = (w*x).sum + b\n",
    "  if tmp <= 0\n",
    "    0\n",
    "  else\n",
    "    1\n",
    "  end\n",
    "end"
   ]
  },
  {
   "cell_type": "code",
   "execution_count": 12,
   "metadata": {},
   "outputs": [
    {
     "name": "stdout",
     "output_type": "stream",
     "text": [
      "(0, 0) -> 1\n",
      "(1, 0) -> 1\n",
      "(0, 1) -> 1\n",
      "(1, 1) -> 0\n"
     ]
    },
    {
     "data": {
      "text/plain": [
       "[[0, 0], [1, 0], [0, 1], [1, 1]]"
      ]
     },
     "execution_count": 12,
     "metadata": {},
     "output_type": "execute_result"
    }
   ],
   "source": [
    "[[0, 0], [1, 0], [0, 1], [1, 1]].each do |x1, x2|\n",
    "  y = NAND(x1, x2)\n",
    "  puts \"(#{x1}, #{x2}) -> #{y}\"\n",
    "end"
   ]
  },
  {
   "cell_type": "code",
   "execution_count": 13,
   "metadata": {},
   "outputs": [
    {
     "data": {
      "text/plain": [
       ":OR"
      ]
     },
     "execution_count": 13,
     "metadata": {},
     "output_type": "execute_result"
    }
   ],
   "source": [
    "def OR(x1, x2)\n",
    "  x = Numo::DFloat[x1, x2]\n",
    "  w = Numo::DFloat[0.5, 0.5]\n",
    "  b = -0.2\n",
    "  tmp = (w*x).sum + b\n",
    "  if tmp <= 0\n",
    "    0\n",
    "  else\n",
    "    1\n",
    "  end\n",
    "end"
   ]
  },
  {
   "cell_type": "code",
   "execution_count": 14,
   "metadata": {},
   "outputs": [
    {
     "name": "stdout",
     "output_type": "stream",
     "text": [
      "(0, 0) -> 0\n",
      "(1, 0) -> 1\n",
      "(0, 1) -> 1\n",
      "(1, 1) -> 1\n"
     ]
    },
    {
     "data": {
      "text/plain": [
       "[[0, 0], [1, 0], [0, 1], [1, 1]]"
      ]
     },
     "execution_count": 14,
     "metadata": {},
     "output_type": "execute_result"
    }
   ],
   "source": [
    "[[0, 0], [1, 0], [0, 1], [1, 1]].each do |x1, x2|\n",
    "  y = OR(x1, x2)\n",
    "  puts \"(#{x1}, #{x2}) -> #{y}\"\n",
    "end"
   ]
  },
  {
   "cell_type": "code",
   "execution_count": 15,
   "metadata": {},
   "outputs": [
    {
     "data": {
      "text/plain": [
       ":XOR"
      ]
     },
     "execution_count": 15,
     "metadata": {},
     "output_type": "execute_result"
    }
   ],
   "source": [
    "def XOR(x1, x2)\n",
    "  s1 = NAND(x1, x2)\n",
    "  s2 = OR(x1, x2)\n",
    "  y  = AND(s1, s2)\n",
    "  return y\n",
    "end"
   ]
  },
  {
   "cell_type": "code",
   "execution_count": 16,
   "metadata": {},
   "outputs": [
    {
     "name": "stdout",
     "output_type": "stream",
     "text": [
      "(0, 0) -> 0\n",
      "(1, 0) -> 1\n",
      "(0, 1) -> 1\n",
      "(1, 1) -> 0\n"
     ]
    },
    {
     "data": {
      "text/plain": [
       "[[0, 0], [1, 0], [0, 1], [1, 1]]"
      ]
     },
     "execution_count": 16,
     "metadata": {},
     "output_type": "execute_result"
    }
   ],
   "source": [
    "[[0, 0], [1, 0], [0, 1], [1, 1]].each do |x1, x2|\n",
    "  y = XOR(x1, x2)\n",
    "  puts \"(#{x1}, #{x2}) -> #{y}\"\n",
    "end"
   ]
  },
  {
   "cell_type": "code",
   "execution_count": null,
   "metadata": {
    "collapsed": true
   },
   "outputs": [],
   "source": []
  }
 ],
 "metadata": {
  "kernelspec": {
   "display_name": "Ruby 2.4.0",
   "language": "ruby",
   "name": "ruby"
  },
  "language_info": {
   "file_extension": ".rb",
   "mimetype": "application/x-ruby",
   "name": "ruby",
   "version": "2.4.0"
  }
 },
 "nbformat": 4,
 "nbformat_minor": 2
}
